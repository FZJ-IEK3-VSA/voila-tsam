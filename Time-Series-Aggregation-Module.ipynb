{
 "cells": [
  {
   "cell_type": "code",
   "execution_count": 2,
   "metadata": {},
   "outputs": [],
   "source": [
    "# FIRST ALL IMPORTS\n",
    "import pandas as pd\n",
    "from ipywidgets import *\n",
    "import copy\n",
    "import matplotlib.pyplot as plt\n",
    "import tsam.timeseriesaggregation as tsam\n",
    "from IPython.core.display import display\n",
    "from IPython.display import Image\n",
    "\n",
    "from IPython.display import clear_output\n",
    "\n",
    "import base64\n",
    "from io import StringIO\n",
    "import os\n",
    "%matplotlib inline"
   ]
  },
  {
   "cell_type": "markdown",
   "metadata": {},
   "source": [
    "### <font color='#023d6b'>1. Upload  your data</font>\n",
    "It needs to be of .csv format, while the first column is the time index. If you just want to use the example data, directly click \"Show data\"."
   ]
  },
  {
   "cell_type": "code",
   "execution_count": 3,
   "metadata": {},
   "outputs": [
    {
     "data": {
      "image/png": "[encoded data removed]",
      "text/plain": [
       "<IPython.core.display.Image object>"
      ]
     },
     "execution_count": 3,
     "metadata": {},
     "output_type": "execute_result"
    }
   ],
   "source": [
    "PATH = os.getcwd()\n",
    "#Image(filename = os.path.join(PATH, \"data_structure.png\"))"
   ]
  },
  {
   "cell_type": "code",
   "execution_count": 4,
   "metadata": {},
   "outputs": [],
   "source": [
    "raw_data=None"
   ]
  },
  {
   "cell_type": "code",
   "execution_count": 5,
   "metadata": {},
   "outputs": [
    {
     "data": {
      "application/vnd.jupyter.widget-view+json": {
       "model_id": "e94ffbfc233b4317ab796b088b186257",
       "version_major": 2,
       "version_minor": 0
      },
      "text/plain": [
       "HBox(children=(FileUpload(value={}, accept='.csv', description='Select data', _dom_classes=('right-space-class…"
      ]
     },
     "metadata": {},
     "output_type": "display_data"
    }
   ],
   "source": [
    "uploader = widgets.FileUpload(\n",
    "                description=\"Select data\",\n",
    "                accept='.csv',  # Accepted file extension e.g. '.txt', '.pdf', 'image/*', 'image/*,.pdf'\n",
    "                multiple=False,  # True to accept multiple files upload else False\n",
    "            )\n",
    "uploader.add_class(\"right-space-class\")\n",
    "\n",
    "button_data = Button(description=\"Show data\", icon='check')\n",
    "\n",
    "# define what happens in cas that the button is clicked\n",
    "HBox(children=[uploader, button_data])"
   ]
  },
  {
   "cell_type": "code",
   "execution_count": 6,
   "metadata": {},
   "outputs": [
    {
     "data": {
      "application/vnd.jupyter.widget-view+json": {
       "model_id": "9f3ef506c7b141518c7af5063a998439",
       "version_major": 2,
       "version_minor": 0
      },
      "text/plain": [
       "Output()"
      ]
     },
     "metadata": {},
     "output_type": "display_data"
    }
   ],
   "source": [
    "# the data output function is defined further below\n",
    "data_output = Output()\n",
    "data_output"
   ]
  },
  {
   "cell_type": "markdown",
   "metadata": {},
   "source": [
    "### <font color='#023d6b'>2. Define aggregation method and parameters</font>"
   ]
  },
  {
   "cell_type": "code",
   "execution_count": 57,
   "metadata": {},
   "outputs": [
    {
     "data": {
      "application/vnd.jupyter.widget-view+json": {
       "model_id": "d4066fa790354be2a172abd732a450ea",
       "version_major": 2,
       "version_minor": 0
      },
      "text/plain": [
       "HBox(children=(BoundedIntText(value=24, description='Time steps per period:', layout=Layout(width='17.5%'), ma…"
      ]
     },
     "metadata": {},
     "output_type": "display_data"
    }
   ],
   "source": [
    "steps = widgets.BoundedIntText(\n",
    "            value=24,\n",
    "            description='Time steps per period:',\n",
    "            disabled=False,\n",
    "            style={'description_width': 'initial'},\n",
    "            min=1,\n",
    "            max=168,\n",
    "            layout=Layout(width='17.5%')\n",
    "        )\n",
    "\n",
    "segments = widgets.BoundedIntText(\n",
    "            value=24,\n",
    "            min=1,\n",
    "            max=168,\n",
    "            step=1,\n",
    "            description='Segments per period:',\n",
    "            disabled=False,\n",
    "            style={'description_width': 'initial'},\n",
    "            layout=Layout(width='17%')\n",
    "        )\n",
    "\n",
    "periods = widgets.BoundedIntText(\n",
    "            value=10,\n",
    "            min=1,\n",
    "            max=100,\n",
    "            step=1,\n",
    "            description='Periods to aggregate:',\n",
    "            disabled=False,\n",
    "            style={'description_width': 'initial'},\n",
    "            layout=Layout(width='17%')\n",
    "        )\n",
    "\n",
    "algorithm = widgets.Dropdown(\n",
    "                options=[alg for alg in tsam.TimeSeriesAggregation.CLUSTER_METHODS],\n",
    "                value='hierarchical',\n",
    "                description='Algorithm:',\n",
    "                disabled=False,\n",
    "                style={'description_width': 'initial'},\n",
    "                layout=Layout(width='17%')\n",
    "            )\n",
    "\n",
    "button_agr = Button(description=\"Aggregate\", button_style=\"success\", icon='check' , layout=Layout(width='20%'))\n",
    "\n",
    "params = HBox([steps, segments, periods, algorithm, button_agr])\n",
    "params.layout.justify_content=\"space-around\"\n",
    "\n",
    "display(params)"
   ]
  },
  {
   "cell_type": "markdown",
   "metadata": {},
   "source": [
    "### <font color='#023d6b'>3. Show and download your results</font>"
   ]
  },
  {
   "cell_type": "code",
   "execution_count": 58,
   "metadata": {},
   "outputs": [
    {
     "data": {
      "application/vnd.jupyter.widget-view+json": {
       "model_id": "c92db9a04ef2410e9836319977c51fa1",
       "version_major": 2,
       "version_minor": 0
      },
      "text/plain": [
       "Output()"
      ]
     },
     "metadata": {},
     "output_type": "display_data"
    }
   ],
   "source": [
    "plot1 = Output()\n",
    "plot1"
   ]
  },
  {
   "cell_type": "code",
   "execution_count": 59,
   "metadata": {},
   "outputs": [],
   "source": [
    "### THE FUNCTIONALITY"
   ]
  },
  {
   "cell_type": "code",
   "execution_count": 60,
   "metadata": {
    "scrolled": true
   },
   "outputs": [],
   "source": [
    "show_original = True\n",
    "\n",
    "@data_output.capture(clear_output=True)\n",
    "def onclick_data(button):\n",
    "    if not uploader.data:\n",
    "        display(HTML(\"Sample data chosen.\"))\n",
    "        raw_data = pd.read_csv(\"testdata.csv\", index_col = 0)\n",
    "    else:\n",
    "        raw_data = pd.read_csv(StringIO(str(uploader.data[0],'utf-8')), index_col = 0)\n",
    "               \n",
    "    row, col = raw_data.shape\n",
    "    \n",
    "    periods.max = int(row/steps.value)\n",
    "    \n",
    "    display(HTML(\"Number of time series: \" + str(col)))\n",
    "    display(HTML(\"Number of time steps: \" + str(row)))\n",
    "    \n",
    "    global show_original\n",
    "    show_original = True\n",
    "    \n",
    "    onclick_agr(button_data)\n",
    "    \n",
    "    return raw_data\n",
    "            \n",
    "raw_data = button_data.on_click(onclick_data)"
   ]
  },
  {
   "cell_type": "code",
   "execution_count": 61,
   "metadata": {},
   "outputs": [],
   "source": [
    "def plot_aggregation(predictedPeriods, raw_data, attribute):\n",
    "    global show_original\n",
    "    \n",
    "    if show_original == True:\n",
    "        fig= plt.figure()\n",
    "        fig, axes = plt.subplots(figsize = [8, 1.6], dpi = 100, nrows = 1, ncols = 1 )\n",
    "        stacked_raw, timeindex = tsam.unstackToPeriods(copy.deepcopy(raw_data[attribute]), steps.value)\n",
    "\n",
    "        cax = axes.imshow(stacked_raw.values.T, interpolation = 'nearest', vmin = raw_data[attribute].min(), vmax = raw_data[attribute].max())\n",
    "\n",
    "        axes.set_aspect('auto')  \n",
    "        axes.set_ylabel('Steps')\n",
    "        axes.set_xlabel('Periods')\n",
    "    else:\n",
    "        fig= plt.figure()\n",
    "        fig, axes = plt.subplots(figsize = [8, 1.6], dpi = 100, nrows = 1, ncols = 2, gridspec_kw = {'width_ratios':[1, 1.1],} )\n",
    "        stacked, timeindex = tsam.unstackToPeriods(copy.deepcopy(predictedPeriods[attribute]), steps.value)\n",
    "        stacked_raw, timeindex = tsam.unstackToPeriods(copy.deepcopy(raw_data[attribute]), steps.value)\n",
    "\n",
    "        cax = axes.flat[1].imshow(stacked.values.T, interpolation = 'nearest', vmin = raw_data[attribute].min(), vmax = raw_data[attribute].max())\n",
    "        cax = axes.flat[0].imshow(stacked_raw.values.T, interpolation = 'nearest', vmin = raw_data[attribute].min(), vmax = raw_data[attribute].max())\n",
    "        fig.subplots_adjust(right = 1.7, wspace = 0.5)\n",
    "\n",
    "        axes.flat[0].set_aspect('auto')  \n",
    "        axes.flat[1].set_aspect('auto')  \n",
    "        axes.flat[0].set_ylabel('Steps')\n",
    "        axes.flat[0].set_xlabel('Periods')\n",
    "        axes.flat[1].set_xlabel('Periods')\n",
    "    \n",
    "    cbar=plt.colorbar(cax, ax=axes)\n",
    "\n",
    "    cbar.set_label(attribute)    \n",
    "    return fig"
   ]
  },
  {
   "cell_type": "code",
   "execution_count": 62,
   "metadata": {},
   "outputs": [],
   "source": [
    "def get_html(df, title):\n",
    "    filename = \"data_ts_\"+str(steps.value)+\"_seg_\"+str(segments.value)+\"_per_\"+str(periods.value)+\"_alg_\"+algorithm.value+\".csv\"\n",
    "    \n",
    "    csv = df.to_csv()\n",
    "    b64 = base64.b64encode(csv.encode())\n",
    "    payload = b64.decode()\n",
    "    html = '<a class=\"btn btn-success s6\" download=\"{filename}\" href=\"data:text/csv;base64,{payload}\" target=\"_blank\" style=\"background-color:#b9d25f; text-transform:capitalize; color: black;\">{title}</a>'\n",
    "    html = html.format(payload=payload,title=title,filename=filename)\n",
    "    \n",
    "    return html\n",
    "\n",
    "def create_download_link(df1, title):\n",
    "    html1 = get_html(df1, title)\n",
    "    return html1"
   ]
  },
  {
   "cell_type": "code",
   "execution_count": 85,
   "metadata": {
    "scrolled": true
   },
   "outputs": [],
   "source": [
    "@plot1.capture(clear_output=True)\n",
    "def onclick_agr(button):\n",
    "    global show_original\n",
    "    if button.description == 'Aggregate':\n",
    "        show_original = False\n",
    "\n",
    "    if not uploader.data:\n",
    "        display(HTML(\"Sample data chosen.\"))\n",
    "        raw_data = pd.read_csv(\"testdata.csv\", index_col = 0)\n",
    "    else:\n",
    "        raw_data = pd.read_csv(StringIO(str(uploader.data[0],'utf-8')), index_col = 0)\n",
    "    with plot1:\n",
    "        aggregation = tsam.TimeSeriesAggregation(raw_data, noTypicalPeriods = periods.value,\n",
    "                                                 hoursPerPeriod = steps.value, clusterMethod = algorithm.value,\n",
    "                                                 solver='glpk', segmentation=True, noSegments=segments.value)\n",
    "        typPeriods = aggregation.createTypicalPeriods()\n",
    "        predictedPeriods = aggregation.predictOriginalData()\n",
    "        periodsOrder = pd.DataFrame(aggregation.clusterOrder, columns=['Periods Order'])\n",
    "        accuracyIndicators = aggregation.accuracyIndicators()\n",
    "\n",
    "        if show_original == False:\n",
    "            data_reduction = widgets.FloatText(\n",
    "                                value=round((1-periods.value * segments.value/aggregation.timeSeries.shape[0])*100,2),\n",
    "                                description='Data reduction (%): ',\n",
    "                                disabled=True,\n",
    "                                style={'description_width': 'initial'},\n",
    "                            )\n",
    "\n",
    "            error = widgets.FloatText(\n",
    "                                value=accuracyIndicators['RMSE'].mean(),\n",
    "                                description='Root mean squared error: ',\n",
    "                                disabled=True,\n",
    "                                style={'description_width': 'initial'},\n",
    "                            )\n",
    "            display(HBox(children=[data_reduction, error]))\n",
    "\n",
    "\n",
    "            label_original = widgets.HTML(value=\"<h6 style='color:#023d6b'><b>Original Data</b></h6>\")\n",
    "            label_aggregated = widgets.HTML(value=\"<h6 style='color:#023d6b'><b>Aggregated Data</b></h6>\")\n",
    "            display(HBox(children=[label_original, label_aggregated], layout=Layout(justify_content=\"space-around\")))\n",
    "        else:\n",
    "            label_original = widgets.HTML(value=\"<h6 style='color:#023d6b'><b>Original Data</b></h6>\")\n",
    "            display(HBox(children=[label_original], layout=Layout(left='25%')))\n",
    "\n",
    "        for attr in raw_data.columns:\n",
    "            figgg = plot_aggregation(predictedPeriods, raw_data, attr)\n",
    "            display(figgg)\n",
    "            del figgg\n",
    "\n",
    "        if show_original == False:\n",
    "            html1 = create_download_link(typPeriods, 'Download Aggregated Time Series')\n",
    "            display(HBox(children=[HTML(html1)], layout=Layout(justify_content=\"center\")))\n",
    "\n",
    "            display(HTML('<hr><h6><b>Further Results</b></h6>'))\n",
    "\n",
    "            p2 = '<p><b>The Predicted Time Series</b> are a representation of the aggregated time series that are unfold to \\\n",
    "                  the original size of the time series in order to visualize the impact of the aggregation on the time \\\n",
    "                  series, e.g. regarding variance underestimation due to aggregation.</p>'\n",
    "            html2 = create_download_link(predictedPeriods, 'Download Predicted Time Series')\n",
    "            v2 = VBox(children=[HTML(p2), HTML(html2)])\n",
    "\n",
    "            div = '<div style=\"border-left: 6px solid #023d6b; margin-right: 20px; margin-left: 10px;\"></div>'\n",
    "\n",
    "            html3 = create_download_link(periodsOrder, 'Download Periods Order')\n",
    "            p3 = '<p><b>The Periods Order</b> is a sequence of integers indicating which period of the original time series is \\\n",
    "            assigned to which typical period. For example, if one year is clustered to 20 typical days, the periods order \\\n",
    "            consists of 365 integers between 0 and 19 showing that e.g. the first day of the year is assigned to typical day \\\n",
    "            number 3, the second one to typical day number 1, the third one to typical day number 3 and so on. The periods \\\n",
    "            order is important for modeling seasonal storage as shown by Kotzur et al. \\\n",
    "            <a href=\"https://www.sciencedirect.com/science/article/pii/S0306261918300242\" title=\"\">link</a>.</p>'\n",
    "            v3 = VBox(children=[HTML(p3), HTML(html3)])\n",
    "\n",
    "            display(HBox(children=[v2, HTML(div), v3], layout=Layout(justify_content=\"space-around\")))\n",
    "\n",
    "        show_original = False\n",
    "                \n",
    "button_agr.on_click(onclick_agr)"
   ]
  },
  {
   "cell_type": "code",
   "execution_count": 83,
   "metadata": {},
   "outputs": [],
   "source": [
    "# button_agr.click()"
   ]
  },
  {
   "cell_type": "code",
   "execution_count": null,
   "metadata": {},
   "outputs": [],
   "source": [
    "# onclick_agr(button_agr)"
   ]
  },
  {
   "cell_type": "code",
   "execution_count": 84,
   "metadata": {},
   "outputs": [],
   "source": []
  },
  {
   "cell_type": "markdown",
   "metadata": {},
   "source": [
    "Authors: Maximilian Hoffman, Leander Kotzur, Detlef Stolten"
   ]
  }
 ],
 "metadata": {
  "kernelspec": {
   "display_name": "Python 3 (ipykernel)",
   "language": "python",
   "name": "python3"
  },
  "language_info": {
   "codemirror_mode": {
    "name": "ipython",
    "version": 3
   },
   "file_extension": ".py",
   "mimetype": "text/x-python",
   "name": "python",
   "nbconvert_exporter": "python",
   "pygments_lexer": "ipython3",
   "version": "3.9.5"
  }
 },
 "nbformat": 4,
 "nbformat_minor": 4
}
