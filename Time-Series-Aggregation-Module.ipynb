{
 "cells": [
  {
   "cell_type": "code",
   "execution_count": 52,
   "source": [
    "# FIRST ALL IMPORTS\r\n",
    "import pandas as pd\r\n",
    "from ipywidgets import *\r\n",
    "import copy\r\n",
    "import matplotlib.pyplot as plt\r\n",
    "import tsam.timeseriesaggregation as tsam\r\n",
    "from IPython.core.display import display\r\n",
    "from IPython.display import Image\r\n",
    "\r\n",
    "from IPython.display import clear_output\r\n",
    "\r\n",
    "import base64\r\n",
    "from io import StringIO\r\n",
    "import os\r\n",
    "%matplotlib inline"
   ],
   "outputs": [
    {
     "output_type": "stream",
     "name": "stdout",
     "text": [
      "The autoreload extension is already loaded. To reload it, use:\n",
      "  %reload_ext autoreload\n"
     ]
    }
   ],
   "metadata": {}
  },
  {
   "cell_type": "markdown",
   "source": [
    "### <font color='#023d6b'>1. Upload  your data</font>\r\n",
    "It needs to be of .csv format, while the first column is the time index. If you just want to use the example data, directly click \"Show data\"."
   ],
   "metadata": {}
  },
  {
   "cell_type": "code",
   "execution_count": 53,
   "source": [
    "PATH = os.getcwd()\r\n",
    "Image(filename = os.path.join(PATH, \"data_structure.png\"))"
   ],
   "outputs": [
    {
     "output_type": "execute_result",
     "data": {
      "image/png": "[encoded data removed]",
      "text/plain": [
       "<IPython.core.display.Image object>"
      ]
     },
     "metadata": {},
     "execution_count": 53
    }
   ],
   "metadata": {}
  },
  {
   "cell_type": "code",
   "execution_count": 54,
   "source": [
    "raw_data=None"
   ],
   "outputs": [],
   "metadata": {}
  },
  {
   "cell_type": "code",
   "execution_count": 55,
   "source": [
    "uploader = widgets.FileUpload(\r\n",
    "                description=\"Select data\",\r\n",
    "                accept='.csv',  # Accepted file extension e.g. '.txt', '.pdf', 'image/*', 'image/*,.pdf'\r\n",
    "                multiple=False,  # True to accept multiple files upload else False\r\n",
    "            )\r\n",
    "uploader.add_class(\"right-space-class\")\r\n",
    "\r\n",
    "button_data = Button(description=\"Show data\", icon='check')\r\n",
    "\r\n",
    "# define what happens in cas that the button is clicked\r\n",
    "HBox(children=[uploader, button_data])"
   ],
   "outputs": [
    {
     "output_type": "display_data",
     "data": {
      "application/vnd.jupyter.widget-view+json": {
       "model_id": "62e272b005914e418e3a8b6c6967b32d",
       "version_major": 2,
       "version_minor": 0
      },
      "text/plain": [
       "HBox(children=(FileUpload(value={}, accept='.csv', description='Select data', _dom_classes=('right-space-class…"
      ]
     },
     "metadata": {}
    }
   ],
   "metadata": {}
  },
  {
   "cell_type": "code",
   "execution_count": 56,
   "source": [
    "# the data output function is defined further below\r\n",
    "data_output = Output()\r\n",
    "data_output"
   ],
   "outputs": [
    {
     "output_type": "display_data",
     "data": {
      "application/vnd.jupyter.widget-view+json": {
       "model_id": "7fee68cc360a4e8891eed65c09e14e99",
       "version_major": 2,
       "version_minor": 0
      },
      "text/plain": [
       "Output()"
      ]
     },
     "metadata": {}
    }
   ],
   "metadata": {}
  },
  {
   "cell_type": "markdown",
   "source": [
    "### <font color='#023d6b'>2. Define aggregation method and parameters</font>"
   ],
   "metadata": {}
  },
  {
   "cell_type": "code",
   "execution_count": 57,
   "source": [
    "steps = widgets.BoundedIntText(\r\n",
    "            value=24,\r\n",
    "            description='Time steps per period:',\r\n",
    "            disabled=False,\r\n",
    "            style={'description_width': 'initial'},\r\n",
    "            min=1,\r\n",
    "            max=168,\r\n",
    "            layout=Layout(width='17.5%')\r\n",
    "        )\r\n",
    "\r\n",
    "segments = widgets.BoundedIntText(\r\n",
    "            value=24,\r\n",
    "            min=1,\r\n",
    "            max=168,\r\n",
    "            step=1,\r\n",
    "            description='Segments per period:',\r\n",
    "            disabled=False,\r\n",
    "            style={'description_width': 'initial'},\r\n",
    "            layout=Layout(width='17%')\r\n",
    "        )\r\n",
    "\r\n",
    "periods = widgets.BoundedIntText(\r\n",
    "            value=10,\r\n",
    "            min=1,\r\n",
    "            max=100,\r\n",
    "            step=1,\r\n",
    "            description='Periods to aggregate:',\r\n",
    "            disabled=False,\r\n",
    "            style={'description_width': 'initial'},\r\n",
    "            layout=Layout(width='17%')\r\n",
    "        )\r\n",
    "\r\n",
    "algorithm = widgets.Dropdown(\r\n",
    "                options=[alg for alg in tsam.TimeSeriesAggregation.CLUSTER_METHODS],\r\n",
    "                value='hierarchical',\r\n",
    "                description='Algorithm:',\r\n",
    "                disabled=False,\r\n",
    "                style={'description_width': 'initial'},\r\n",
    "                layout=Layout(width='17%')\r\n",
    "            )\r\n",
    "\r\n",
    "button_agr = Button(description=\"Aggregate\", button_style=\"success\", icon='check' , layout=Layout(width='20%'))\r\n",
    "\r\n",
    "params = HBox([steps, segments, periods, algorithm, button_agr])\r\n",
    "params.layout.justify_content=\"space-around\"\r\n",
    "\r\n",
    "display(params)"
   ],
   "outputs": [
    {
     "output_type": "display_data",
     "data": {
      "application/vnd.jupyter.widget-view+json": {
       "model_id": "d4066fa790354be2a172abd732a450ea",
       "version_major": 2,
       "version_minor": 0
      },
      "text/plain": [
       "HBox(children=(BoundedIntText(value=24, description='Time steps per period:', layout=Layout(width='17.5%'), ma…"
      ]
     },
     "metadata": {}
    }
   ],
   "metadata": {}
  },
  {
   "cell_type": "markdown",
   "source": [
    "### <font color='#023d6b'>3. Show and download your results</font>"
   ],
   "metadata": {}
  },
  {
   "cell_type": "code",
   "execution_count": 58,
   "source": [
    "plot1 = Output()\r\n",
    "plot1"
   ],
   "outputs": [
    {
     "output_type": "display_data",
     "data": {
      "application/vnd.jupyter.widget-view+json": {
       "model_id": "c92db9a04ef2410e9836319977c51fa1",
       "version_major": 2,
       "version_minor": 0
      },
      "text/plain": [
       "Output()"
      ]
     },
     "metadata": {}
    }
   ],
   "metadata": {}
  },
  {
   "cell_type": "code",
   "execution_count": 59,
   "source": [
    "### THE FUNCTIONALITY"
   ],
   "outputs": [],
   "metadata": {}
  },
  {
   "cell_type": "code",
   "execution_count": 60,
   "source": [
    "show_original = True\r\n",
    "\r\n",
    "@data_output.capture(clear_output=True)\r\n",
    "def onclick_data(button):\r\n",
    "    if not uploader.data:\r\n",
    "        display(HTML(\"Sample data chosen.\"))\r\n",
    "        raw_data = pd.read_csv(\"testdata.csv\", index_col = 0)\r\n",
    "    else:\r\n",
    "        raw_data = pd.read_csv(StringIO(str(uploader.data[0],'utf-8')), index_col = 0)\r\n",
    "               \r\n",
    "    row, col = raw_data.shape\r\n",
    "    \r\n",
    "    periods.max = int(row/steps.value)\r\n",
    "    \r\n",
    "    display(HTML(\"Number of time series: \" + str(col)))\r\n",
    "    display(HTML(\"Number of time steps: \" + str(row)))\r\n",
    "    \r\n",
    "    global show_original\r\n",
    "    show_original = True\r\n",
    "    \r\n",
    "    onclick_agr(button_data)\r\n",
    "    \r\n",
    "    return raw_data\r\n",
    "            \r\n",
    "raw_data = button_data.on_click(onclick_data)"
   ],
   "outputs": [],
   "metadata": {
    "scrolled": true
   }
  },
  {
   "cell_type": "code",
   "execution_count": 61,
   "source": [
    "def plot_aggregation(predictedPeriods, raw_data, attribute):\r\n",
    "    global show_original\r\n",
    "    \r\n",
    "    if show_original == True:\r\n",
    "        fig= plt.figure()\r\n",
    "        fig, axes = plt.subplots(figsize = [8, 1.6], dpi = 100, nrows = 1, ncols = 1 )\r\n",
    "        stacked_raw, timeindex = tsam.unstackToPeriods(copy.deepcopy(raw_data[attribute]), steps.value)\r\n",
    "\r\n",
    "        cax = axes.imshow(stacked_raw.values.T, interpolation = 'nearest', vmin = raw_data[attribute].min(), vmax = raw_data[attribute].max())\r\n",
    "\r\n",
    "        axes.set_aspect('auto')  \r\n",
    "        axes.set_ylabel('Steps')\r\n",
    "        axes.set_xlabel('Periods')\r\n",
    "    else:\r\n",
    "        fig= plt.figure()\r\n",
    "        fig, axes = plt.subplots(figsize = [8, 1.6], dpi = 100, nrows = 1, ncols = 2, gridspec_kw = {'width_ratios':[1, 1.1],} )\r\n",
    "        stacked, timeindex = tsam.unstackToPeriods(copy.deepcopy(predictedPeriods[attribute]), steps.value)\r\n",
    "        stacked_raw, timeindex = tsam.unstackToPeriods(copy.deepcopy(raw_data[attribute]), steps.value)\r\n",
    "\r\n",
    "        cax = axes.flat[1].imshow(stacked.values.T, interpolation = 'nearest', vmin = raw_data[attribute].min(), vmax = raw_data[attribute].max())\r\n",
    "        cax = axes.flat[0].imshow(stacked_raw.values.T, interpolation = 'nearest', vmin = raw_data[attribute].min(), vmax = raw_data[attribute].max())\r\n",
    "        fig.subplots_adjust(right = 1.7, wspace = 0.5)\r\n",
    "\r\n",
    "        axes.flat[0].set_aspect('auto')  \r\n",
    "        axes.flat[1].set_aspect('auto')  \r\n",
    "        axes.flat[0].set_ylabel('Steps')\r\n",
    "        axes.flat[0].set_xlabel('Periods')\r\n",
    "        axes.flat[1].set_xlabel('Periods')\r\n",
    "    \r\n",
    "    cbar=plt.colorbar(cax)\r\n",
    "\r\n",
    "    cbar.set_label(attribute)    \r\n",
    "    return fig"
   ],
   "outputs": [],
   "metadata": {}
  },
  {
   "cell_type": "code",
   "execution_count": 62,
   "source": [
    "def get_html(df, title):\r\n",
    "    filename = \"data_ts_\"+str(steps.value)+\"_seg_\"+str(segments.value)+\"_per_\"+str(periods.value)+\"_alg_\"+algorithm.value+\".csv\"\r\n",
    "    \r\n",
    "    csv = df.to_csv()\r\n",
    "    b64 = base64.b64encode(csv.encode())\r\n",
    "    payload = b64.decode()\r\n",
    "    html = '<a class=\"btn btn-success s6\" download=\"{filename}\" href=\"data:text/csv;base64,{payload}\" target=\"_blank\" style=\"background-color:#b9d25f; text-transform:capitalize; color: black;\">{title}</a>'\r\n",
    "    html = html.format(payload=payload,title=title,filename=filename)\r\n",
    "    \r\n",
    "    return html\r\n",
    "\r\n",
    "def create_download_link(df1, title):\r\n",
    "    html1 = get_html(df1, title)\r\n",
    "    return html1"
   ],
   "outputs": [],
   "metadata": {}
  },
  {
   "cell_type": "code",
   "execution_count": 85,
   "source": [
    "@plot1.capture(clear_output=True)\r\n",
    "def onclick_agr(button):\r\n",
    "    global show_original\r\n",
    "    if button.description == 'Aggregate':\r\n",
    "        show_original = False\r\n",
    "\r\n",
    "    if not uploader.data:\r\n",
    "        display(HTML(\"Sample data chosen.\"))\r\n",
    "        raw_data = pd.read_csv(\"testdata.csv\", index_col = 0)\r\n",
    "    else:\r\n",
    "        raw_data = pd.read_csv(StringIO(str(uploader.data[0],'utf-8')), index_col = 0)\r\n",
    "    with plot1:\r\n",
    "        aggregation = tsam.TimeSeriesAggregation(raw_data, noTypicalPeriods = periods.value,\r\n",
    "                                                 hoursPerPeriod = steps.value, clusterMethod = algorithm.value,\r\n",
    "                                                 solver='glpk', segmentation=True, noSegments=segments.value)\r\n",
    "        typPeriods = aggregation.createTypicalPeriods()\r\n",
    "        predictedPeriods = aggregation.predictOriginalData()\r\n",
    "        periodsOrder = pd.DataFrame(aggregation.clusterOrder, columns=['Periods Order'])\r\n",
    "        accuracyIndicators = aggregation.accuracyIndicators()\r\n",
    "\r\n",
    "        if show_original == False:\r\n",
    "            data_reduction = widgets.FloatText(\r\n",
    "                                value=round((1-periods.value * segments.value/aggregation.timeSeries.shape[0])*100,2),\r\n",
    "                                description='Data reduction (%): ',\r\n",
    "                                disabled=True,\r\n",
    "                                style={'description_width': 'initial'},\r\n",
    "                            )\r\n",
    "\r\n",
    "            error = widgets.FloatText(\r\n",
    "                                value=accuracyIndicators['RMSE'].mean(),\r\n",
    "                                description='Root mean squared error: ',\r\n",
    "                                disabled=True,\r\n",
    "                                style={'description_width': 'initial'},\r\n",
    "                            )\r\n",
    "            display(HBox(children=[data_reduction, error]))\r\n",
    "\r\n",
    "\r\n",
    "            label_original = widgets.HTML(value=\"<h6 style='color:#023d6b'><b>Original Data</b></h6>\")\r\n",
    "            label_aggregated = widgets.HTML(value=\"<h6 style='color:#023d6b'><b>Aggregated Data</b></h6>\")\r\n",
    "            display(HBox(children=[label_original, label_aggregated], layout=Layout(justify_content=\"space-around\")))\r\n",
    "        else:\r\n",
    "            label_original = widgets.HTML(value=\"<h6 style='color:#023d6b'><b>Original Data</b></h6>\")\r\n",
    "            display(HBox(children=[label_original], layout=Layout(left='25%')))\r\n",
    "\r\n",
    "        for attr in raw_data.columns:\r\n",
    "            figgg = plot_aggregation(predictedPeriods, raw_data, attr)\r\n",
    "            display(figgg)\r\n",
    "            del figgg\r\n",
    "\r\n",
    "        if show_original == False:\r\n",
    "            html1 = create_download_link(typPeriods, 'Download Aggregated Time Series')\r\n",
    "            display(HBox(children=[HTML(html1)], layout=Layout(justify_content=\"center\")))\r\n",
    "\r\n",
    "            display(HTML('<hr><h6><b>Alternative Data Results</b></h6>'))\r\n",
    "\r\n",
    "            p2 = '<p><b>The Predicted Time Series</b> are a representation of the aggregated time series that are unfold to \\\r\n",
    "                  the original size of the time series in order to visualize the impact of the aggregation on the time \\\r\n",
    "                  series, e.g. regarding variance underestimation due to aggregation.</p>'\r\n",
    "            html2 = create_download_link(predictedPeriods, 'Download Predicted Time Series')\r\n",
    "            v2 = VBox(children=[HTML(p2), HTML(html2)])\r\n",
    "\r\n",
    "            div = '<div style=\"border-left: 6px solid #023d6b; margin-right: 20px; margin-left: 10px;\"></div>'\r\n",
    "\r\n",
    "            html3 = create_download_link(periodsOrder, 'Download Periods Order')\r\n",
    "            p3 = '<p><b>The Periods Order</b> is a sequence of integers indicating which period of the original time series is \\\r\n",
    "            assigned to which typical period. For example, if one year is clustered to 20 typical days, the periods order \\\r\n",
    "            consists of 365 integers between 0 and 19 showing that e.g. the first day of the year is assigned to typical day \\\r\n",
    "            number 3, the second one to typical day number 1, the third one to typical day number 3 and so on. The periods \\\r\n",
    "            order is important for modeling seasonal storage as shown by Kotzur et al. \\\r\n",
    "            <a href=\"https://www.sciencedirect.com/science/article/pii/S0306261918300242\" title=\"\">link</a>.</p>'\r\n",
    "            v3 = VBox(children=[HTML(p3), HTML(html3)])\r\n",
    "\r\n",
    "            display(HBox(children=[v2, HTML(div), v3], layout=Layout(justify_content=\"space-around\")))\r\n",
    "\r\n",
    "        show_original = False\r\n",
    "                \r\n",
    "button_agr.on_click(onclick_agr)"
   ],
   "outputs": [],
   "metadata": {
    "scrolled": true
   }
  },
  {
   "cell_type": "code",
   "execution_count": 83,
   "source": [
    "# button_agr.click()"
   ],
   "outputs": [],
   "metadata": {}
  },
  {
   "cell_type": "code",
   "execution_count": null,
   "source": [
    "# onclick_agr(button_agr)"
   ],
   "outputs": [],
   "metadata": {}
  },
  {
   "cell_type": "code",
   "execution_count": 84,
   "source": [],
   "outputs": [],
   "metadata": {}
  },
  {
   "cell_type": "markdown",
   "source": [
    "Authors: Maximilian Hoffman, Leander Kotzur, Detlef Stolten"
   ],
   "metadata": {}
  }
 ],
 "metadata": {
  "kernelspec": {
   "display_name": "Python 3",
   "language": "python",
   "name": "python3"
  },
  "language_info": {
   "codemirror_mode": {
    "name": "ipython",
    "version": 3
   },
   "file_extension": ".py",
   "mimetype": "text/x-python",
   "name": "python",
   "nbconvert_exporter": "python",
   "pygments_lexer": "ipython3",
   "version": "3.8.0"
  }
 },
 "nbformat": 4,
 "nbformat_minor": 4
}